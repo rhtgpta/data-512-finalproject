{
 "cells": [
  {
   "cell_type": "markdown",
   "metadata": {},
   "source": [
    "# Diversity Initiatives amongst Four-Year Colleges in the US\n",
    "\n",
    "Rohit Gupta   \n",
    "DATA 512 Final Project   \n",
    "University of Washington, Fall 2018   "
   ]
  },
  {
   "cell_type": "markdown",
   "metadata": {},
   "source": [
    "## Introduction\n",
    "College Scorecard Data is a rich dataset that enables effective decision-making by students interested in pursuing college in the US. It has a range of important information such as the costs, scores, socio-economic breakdowns, graduation percentages, future earnings, debt measures etc. It was announced as a policy initiative by President Obama in 2013 during a State of the Union Address.[1] The release of the dataset was an important milestone in ensuring transparency and enabling smarter decision-making on the part of students and their parents/guardians. It can also potentially inform policy decisions as value-addition at the college level is a strong component of social mobility.[2]"
   ]
  },
  {
   "cell_type": "markdown",
   "metadata": {},
   "source": [
    "## Background\n",
    "While for-profit organizations such as the U.S. News & World Report and Forbes have been serving the needs of the intended audience of this dataset, the unbiased nature of the College Scorecard dataset makes it distinguished from the above. For-profit institutions usually have no obligation to full transparency, and the intelligence layer on top of the raw data can be used to push an agenda that might not be in line with the interests of the end consumers (i.e. students in this case). Having a one-size-fits-all approach like these also have a tendency to be easily gamed: colleges artificially inflate their rankings by engaging in a downward spiral of doom.[3]\n",
    "For instance, assuming that graduation rate is one of the most important criteria for a particular ranking system, inclusion/diversity efforts by an institution can be met with a decrease in the ranking as students coming from a lower socio-economic background have a higher chance of dropping out. The dataset also stretches out far into the future (earnings after ~10 years), and the sample size is respectable enough to draw meaningful conclusions (compared to for-profit services such as Payscale, which includes a lesser number of institutions with not enough information about included sample sizes, which limits the reliability of most types of analysis)."
   ]
  },
  {
   "cell_type": "markdown",
   "metadata": {},
   "source": [
    "## Research Questions\n",
    "How to identify the colleges that focus on the diversity of incoming students, measured along:\n",
    "* Family Income\n",
    "* Deviation in Test Scores\n",
    "* Cost of Attending the School\n",
    "* Racial Diversity\n",
    "\n",
    "For the colleges that do focus on diversity, how do they stand apart on measures such as:\n",
    "* Admission Rate\n",
    "* Completion Rate\n",
    "* Loan Repayment Rate\n",
    "* Return on Investment"
   ]
  },
  {
   "cell_type": "markdown",
   "metadata": {},
   "source": [
    "## Human Centered Design Considerations\n",
    "Human-centered design considerations have informed my understanding of the project from the scope to execution. While a generic ranking of the colleges might be a good starting point, it usually lacks a lot of important details. This study aims to account for different starting points in terms of student opportunities/abilities and identify institutions that are ideal for serving a very specific subset of the student population. The aim is to uncover institutions that add a lot of value by ensuring higher-than-expected earnings and/or graduation rates. It can be observed that some institutions admit students who were already \"destined\" for success, and the schools ranked high in traditional ranking paradigms usually provide a badge of exclusivity, reinforcing the cycle across time. Patterns emerging out of these clusters might help the less-advantaged students in identifying institutions that help them meet their goals."
   ]
  },
  {
   "cell_type": "markdown",
   "metadata": {},
   "source": [
    "## Reproducibility\n",
    "The entire analysis in the notebook is done keeping in mind the reproducibility aspect. The raw dataset can be downloaded from the [source](https://ed-public-download.app.cloud.gov/downloads/Most-Recent-Cohorts-All-Data-Elements.csv) or can be downloaded from the GitHub repository, under the data directory. Cloning the repository is the most straight-forward way to reproduce the analysis.\n",
    "\n",
    "The software involved in the analysis:\n",
    "* Python (3.4.5) [Documentation](https://www.python.org/doc/)\n",
    "* Anaconda (4.5.11) [Documentation](https://docs.anaconda.com/)\n",
    "* Pandas (0.19.2) [Documentation](https://pandas.pydata.org/pandas-docs/stable/)\n",
    "* ScikitLearn (0.18.1) [Documentation](https://scikit-learn.org/stable/documentation.html)\n",
    "* Numpy (1.11.3) [Documentation](https://docs.scipy.org/doc/)\n",
    "* Scipy (0.18.1) [Documentation](https://docs.scipy.org/doc/)\n",
    "* MatplotLib (2.0.0) [Documentation](https://matplotlib.org/contents.html)\n",
    "* Basemap (1.0.8) [Documentation](https://matplotlib.org/basemap/)"
   ]
  },
  {
   "cell_type": "markdown",
   "metadata": {},
   "source": [
    "## Initial Setup\n",
    "Installing all the packages necessary for the analysis. "
   ]
  },
  {
   "cell_type": "code",
   "execution_count": 1,
   "metadata": {
    "collapsed": true
   },
   "outputs": [],
   "source": [
    "# importing packages\n",
    "import pandas as pd\n",
    "import numpy as np\n",
    "from sklearn.cluster import KMeans\n",
    "from scipy import stats\n",
    "import matplotlib.pyplot as plt\n",
    "from mpl_toolkits.basemap import Basemap as Basemap\n",
    "from matplotlib.colors import rgb2hex\n",
    "from matplotlib.patches import Polygon"
   ]
  },
  {
   "cell_type": "markdown",
   "metadata": {},
   "source": [
    "We read the dataset downloaded from the source. The same dataset can also be found by unzipping raw_data.zip\n",
    "We also replace the rows with \"PrivacySuppressed\" to NaN (not a number) so that it is easier to handle."
   ]
  },
  {
   "cell_type": "code",
   "execution_count": 2,
   "metadata": {
    "collapsed": true
   },
   "outputs": [],
   "source": [
    "# reading the most recent scorecard data\n",
    "raw_df = pd.read_csv('Most-Recent-Cohorts-All-Data-Elements.csv', low_memory=False)\n",
    "\n",
    "# replacing \"privacy suppressed\" data points with NaN \n",
    "raw_df = raw_df.replace('PrivacySuppressed', np.NaN)"
   ]
  },
  {
   "cell_type": "markdown",
   "metadata": {},
   "source": [
    "We only select the columns that we deem necessary for answering the research question at hand. The columns selected are as follows:\n",
    "* UNITID (Unit ID for institution)\n",
    "* INSTNM (Institution name)\n",
    "* CITY\n",
    "* STABBR (State postcode) \n",
    "* HIGHDEG (Highest degree awarded)\n",
    "* ADM_RATE (Admission rate)\n",
    "* SATVR25 (25th percentile of SAT scores at the institution (critical reading))\n",
    "* SATVR75 (75th percentile of SAT scores at the institution (critical reading))\n",
    "* SATMT25 (25th percentile of SAT scores at the institution (math))\n",
    "* SATMT75 (75th percentile of SAT scores at the institution (math))\n",
    "* SATWR25 (25th percentile of SAT scores at the institution (writing))\n",
    "* SATWR75 (75th percentile of SAT scores at the institution (writing))\n",
    "* PCIP10 (Percentage of degrees awarded in Communications Technologies/Technicians And Support Services)\n",
    "* PCIP11 (Percentage of degrees awarded in Computer And Information Sciences And Support Services)\n",
    "* PCIP14 (Percentage of degrees awarded in Engineering)\n",
    "* PCIP15 (Percentage of degrees awarded in Engineering Technologies And Engineering-Related Fields)\n",
    "* PCIP26 (Percentage of degrees awarded in Biological And Biomedical Sciences)\n",
    "* PCIP27 (Percentage of degrees awarded in Mathematics And Statistics)\n",
    "* COSTT4_A (Average cost of attendance (academic year institutions))\n",
    "* UGDS (Enrollment of undergraduate certificate/degree-seeking students)\n",
    "* UGDS_WHITE (Total share of enrollment of undergraduate degree-seeking students who are white)\n",
    "* AVGFACSAL (Average faculty salary)\n",
    "* C150_4 (Completion rate for first-time, full-time students at four-year institutions (150% of expected time to completion))\n",
    "* COMPL_RPY_5YR_RT (Five-year repayment rate for completers)\n",
    "* NONCOM_RPY_5YR_RT (Five-year repayment rate for non-completers)\n",
    "* FAMINC (Average family income in real 2015 dollars)\n",
    "* MN_EARN_WNE_P10 (Mean earnings of students working and not enrolled 10 years after entry)\n",
    "* SD_EARN_WNE_P10 (Standard deviation of earnings of students working and not enrolled 10 years after entry)"
   ]
  },
  {
   "cell_type": "code",
   "execution_count": 3,
   "metadata": {
    "collapsed": true
   },
   "outputs": [],
   "source": [
    "# getting the relevant columns\n",
    "rel_cols = ['UNITID','INSTNM','CITY','STABBR','HIGHDEG',\n",
    "           'ADM_RATE','SATVR25','SATVR75','SATMT25','SATMT75','SATWR25','SATWR75',\n",
    "           'PCIP10','PCIP11','PCIP14','PCIP15','PCIP26','PCIP27', 'COSTT4_A',\n",
    "           'UGDS','UGDS_WHITE','AVGFACSAL','C150_4','COMPL_RPY_5YR_RT',\n",
    "           'NONCOM_RPY_5YR_RT','FAMINC','MN_EARN_WNE_P10','SD_EARN_WNE_P10']"
   ]
  },
  {
   "cell_type": "markdown",
   "metadata": {},
   "source": [
    "We subset the dataset and only retain the columns that are required for performing the analysis. We also subset the dataset to only have colleges that award at least a Bachelor's degree. 3 refers to a Bachelor's degree, and 4 refers to a Master's degree. Hence, we have select all colleges where the highest degree offered is either a Bachelor's or Master's. "
   ]
  },
  {
   "cell_type": "code",
   "execution_count": 4,
   "metadata": {
    "collapsed": true
   },
   "outputs": [],
   "source": [
    "# subsetting the dataset\n",
    "df = raw_df[rel_cols]\n",
    "\n",
    "# only seleccting those institutions where the highest degree awarded is atleast bachelor's\n",
    "df = df.loc[df['HIGHDEG'].isin([3,4])]"
   ]
  },
  {
   "cell_type": "code",
   "execution_count": 5,
   "metadata": {
    "collapsed": false
   },
   "outputs": [
    {
     "data": {
      "text/html": [
       "<div>\n",
       "<table border=\"1\" class=\"dataframe\">\n",
       "  <thead>\n",
       "    <tr style=\"text-align: right;\">\n",
       "      <th></th>\n",
       "      <th>UNITID</th>\n",
       "      <th>INSTNM</th>\n",
       "      <th>CITY</th>\n",
       "      <th>STABBR</th>\n",
       "      <th>HIGHDEG</th>\n",
       "      <th>ADM_RATE</th>\n",
       "      <th>SATVR25</th>\n",
       "      <th>SATVR75</th>\n",
       "      <th>SATMT25</th>\n",
       "      <th>SATMT75</th>\n",
       "      <th>...</th>\n",
       "      <th>COSTT4_A</th>\n",
       "      <th>UGDS</th>\n",
       "      <th>UGDS_WHITE</th>\n",
       "      <th>AVGFACSAL</th>\n",
       "      <th>C150_4</th>\n",
       "      <th>COMPL_RPY_5YR_RT</th>\n",
       "      <th>NONCOM_RPY_5YR_RT</th>\n",
       "      <th>FAMINC</th>\n",
       "      <th>MN_EARN_WNE_P10</th>\n",
       "      <th>SD_EARN_WNE_P10</th>\n",
       "    </tr>\n",
       "  </thead>\n",
       "  <tbody>\n",
       "    <tr>\n",
       "      <th>0</th>\n",
       "      <td>100654</td>\n",
       "      <td>Alabama A &amp; M University</td>\n",
       "      <td>Normal</td>\n",
       "      <td>AL</td>\n",
       "      <td>4</td>\n",
       "      <td>0.8738</td>\n",
       "      <td>380.0</td>\n",
       "      <td>470.0</td>\n",
       "      <td>370.0</td>\n",
       "      <td>470.0</td>\n",
       "      <td>...</td>\n",
       "      <td>22667.0</td>\n",
       "      <td>4616.0</td>\n",
       "      <td>0.0256</td>\n",
       "      <td>7028.0</td>\n",
       "      <td>0.2749</td>\n",
       "      <td>0.5113182423</td>\n",
       "      <td>0.2623284189</td>\n",
       "      <td>32362.826114</td>\n",
       "      <td>35500</td>\n",
       "      <td>25400</td>\n",
       "    </tr>\n",
       "    <tr>\n",
       "      <th>1</th>\n",
       "      <td>100663</td>\n",
       "      <td>University of Alabama at Birmingham</td>\n",
       "      <td>Birmingham</td>\n",
       "      <td>AL</td>\n",
       "      <td>4</td>\n",
       "      <td>0.5814</td>\n",
       "      <td>480.0</td>\n",
       "      <td>640.0</td>\n",
       "      <td>490.0</td>\n",
       "      <td>660.0</td>\n",
       "      <td>...</td>\n",
       "      <td>22684.0</td>\n",
       "      <td>12047.0</td>\n",
       "      <td>0.5786</td>\n",
       "      <td>10517.0</td>\n",
       "      <td>0.5309</td>\n",
       "      <td>0.6733300829</td>\n",
       "      <td>0.4895023328</td>\n",
       "      <td>51306.674306</td>\n",
       "      <td>48400</td>\n",
       "      <td>39200</td>\n",
       "    </tr>\n",
       "    <tr>\n",
       "      <th>2</th>\n",
       "      <td>100690</td>\n",
       "      <td>Amridge University</td>\n",
       "      <td>Montgomery</td>\n",
       "      <td>AL</td>\n",
       "      <td>4</td>\n",
       "      <td>NaN</td>\n",
       "      <td>NaN</td>\n",
       "      <td>NaN</td>\n",
       "      <td>NaN</td>\n",
       "      <td>NaN</td>\n",
       "      <td>...</td>\n",
       "      <td>13380.0</td>\n",
       "      <td>293.0</td>\n",
       "      <td>0.1570</td>\n",
       "      <td>3857.0</td>\n",
       "      <td>0.2500</td>\n",
       "      <td>0.5507246377</td>\n",
       "      <td>0.2848101266</td>\n",
       "      <td>21079.472973</td>\n",
       "      <td>47600</td>\n",
       "      <td>38600</td>\n",
       "    </tr>\n",
       "  </tbody>\n",
       "</table>\n",
       "<p>3 rows × 28 columns</p>\n",
       "</div>"
      ],
      "text/plain": [
       "   UNITID                               INSTNM        CITY STABBR  HIGHDEG  \\\n",
       "0  100654             Alabama A & M University      Normal     AL        4   \n",
       "1  100663  University of Alabama at Birmingham  Birmingham     AL        4   \n",
       "2  100690                   Amridge University  Montgomery     AL        4   \n",
       "\n",
       "   ADM_RATE  SATVR25  SATVR75  SATMT25  SATMT75       ...         COSTT4_A  \\\n",
       "0    0.8738    380.0    470.0    370.0    470.0       ...          22667.0   \n",
       "1    0.5814    480.0    640.0    490.0    660.0       ...          22684.0   \n",
       "2       NaN      NaN      NaN      NaN      NaN       ...          13380.0   \n",
       "\n",
       "      UGDS  UGDS_WHITE  AVGFACSAL  C150_4  COMPL_RPY_5YR_RT  \\\n",
       "0   4616.0      0.0256     7028.0  0.2749      0.5113182423   \n",
       "1  12047.0      0.5786    10517.0  0.5309      0.6733300829   \n",
       "2    293.0      0.1570     3857.0  0.2500      0.5507246377   \n",
       "\n",
       "   NONCOM_RPY_5YR_RT        FAMINC  MN_EARN_WNE_P10  SD_EARN_WNE_P10  \n",
       "0       0.2623284189  32362.826114            35500            25400  \n",
       "1       0.4895023328  51306.674306            48400            39200  \n",
       "2       0.2848101266  21079.472973            47600            38600  \n",
       "\n",
       "[3 rows x 28 columns]"
      ]
     },
     "execution_count": 5,
     "metadata": {},
     "output_type": "execute_result"
    }
   ],
   "source": [
    "# taking a snapshot of the data\n",
    "df.head(3)"
   ]
  },
  {
   "cell_type": "markdown",
   "metadata": {},
   "source": [
    "We check the sparsity of columns to see if any of the columns is much more empty than the others. We only intend to perform the analysis on the colleges that have no missing data."
   ]
  },
  {
   "cell_type": "code",
   "execution_count": 6,
   "metadata": {
    "collapsed": false
   },
   "outputs": [
    {
     "data": {
      "text/plain": [
       "UNITID                  0\n",
       "INSTNM                  0\n",
       "CITY                    0\n",
       "STABBR                  0\n",
       "HIGHDEG                 0\n",
       "ADM_RATE             1084\n",
       "SATVR25              1621\n",
       "SATVR75              1621\n",
       "SATMT25              1619\n",
       "SATMT75              1619\n",
       "SATWR25              2109\n",
       "SATWR75              2109\n",
       "PCIP10                289\n",
       "PCIP11                289\n",
       "PCIP14                289\n",
       "PCIP15                289\n",
       "PCIP26                289\n",
       "PCIP27                289\n",
       "COSTT4_A              578\n",
       "UGDS                  287\n",
       "UGDS_WHITE            287\n",
       "AVGFACSAL             154\n",
       "C150_4                504\n",
       "COMPL_RPY_5YR_RT      637\n",
       "NONCOM_RPY_5YR_RT     637\n",
       "FAMINC                280\n",
       "MN_EARN_WNE_P10       488\n",
       "SD_EARN_WNE_P10       488\n",
       "dtype: int64"
      ]
     },
     "execution_count": 6,
     "metadata": {},
     "output_type": "execute_result"
    }
   ],
   "source": [
    "# checking which columns are mostly empty\n",
    "df.isnull().sum()"
   ]
  },
  {
   "cell_type": "code",
   "execution_count": 7,
   "metadata": {
    "collapsed": true
   },
   "outputs": [],
   "source": [
    "# taking only the insitutions where the data is complete\n",
    "df = df.dropna(how = 'any')"
   ]
  },
  {
   "cell_type": "markdown",
   "metadata": {},
   "source": [
    "After taking only those colleges where we have complete data, let us check the resultant number of colleges."
   ]
  },
  {
   "cell_type": "code",
   "execution_count": 8,
   "metadata": {
    "collapsed": false
   },
   "outputs": [
    {
     "data": {
      "text/plain": [
       "(644, 28)"
      ]
     },
     "execution_count": 8,
     "metadata": {},
     "output_type": "execute_result"
    }
   ],
   "source": [
    "# checking the dimensions (rows and number of features)\n",
    "df.shape"
   ]
  },
  {
   "cell_type": "markdown",
   "metadata": {},
   "source": [
    "As we can see there is complete data for only 644 colleges, whilst the original dataset had 7175 colleges. Hence, there is a possibility of bias as colleges with incomplete data have been removed. However, most of the colleges with national importance is retained in the data and can be checked with INSTNM variable. "
   ]
  },
  {
   "cell_type": "markdown",
   "metadata": {},
   "source": [
    "We prepare the dataset to have features required for answering the research question.   \n",
    "As the SAT score is given separately for Critical Reading, Math, and Writing, we calculate the difference between the 25th and 75th percentile for all 3 and take their average to arrive at the deviation measure of SAT scores.   \n",
    "We also sum up the percentages of all Science, Technology, Engineering and Mathematics (STEM) subjects to arrive at a composite score of STEM degrees awarded at an institution.  \n",
    "We calculate the Return on Investment metric, by the following formula:  \n",
    ">ROI = (Gain from Investment - Cost of Investment) / Cost of Investment\n",
    "\n",
    "Here the gain from the investment is the mean earnings after 10 years after entry, and the cost of investment is the average cost of attendance. "
   ]
  },
  {
   "cell_type": "code",
   "execution_count": 9,
   "metadata": {
    "collapsed": true
   },
   "outputs": [],
   "source": [
    "# data preparation\n",
    "# calculating deviation in scores amongst institutions\n",
    "df['SAT_CR_DEV'] = df['SATVR75'] - df['SATVR25']\n",
    "df['SAT_MT_DEV'] = df['SATMT75'] - df['SATMT25']\n",
    "df['SAT_WR_DEV'] = df['SATWR75'] - df['SATWR25']\n",
    "\n",
    "# average measure of deviation in SAT Scores\n",
    "df['SAT_DEV'] = (df['SAT_CR_DEV'] + df['SAT_MT_DEV'] + df['SAT_WR_DEV'])/3\n",
    "\n",
    "# percentage of STEM degress awarded\n",
    "df['PERC_STEM'] = df['PCIP10'] + df['PCIP11'] + df['PCIP14'] + df['PCIP15'] + df['PCIP26'] + df['PCIP27']\n",
    "\n",
    "# return on investment\n",
    "df['ROI'] = (df['MN_EARN_WNE_P10'].astype(float) - df['COSTT4_A'].astype(float))/df['COSTT4_A'].astype(float)"
   ]
  },
  {
   "cell_type": "markdown",
   "metadata": {},
   "source": [
    "We use k-means clustering to cluster the colleges based on their diversity efforts.   \n",
    "For an intuitive explanation of k-means clustering, you can have a look at the following video:  \n",
    "https://www.youtube.com/watch?v=_aWzGGNrcic\n",
    "\n",
    "We use the following variables to perform the clustering exercise:\n",
    "* Family Income\n",
    "* Average Deviation in SAT scores\n",
    "* Total share of enrollment of undergraduate degree-seeking students who are white\n",
    "* Cost of Attendance\n",
    "\n",
    "Before performing the clustering, we also normalize all the variables by centering it around its mean value and dividing by (max - min) value. \n"
   ]
  },
  {
   "cell_type": "code",
   "execution_count": 10,
   "metadata": {
    "collapsed": true
   },
   "outputs": [],
   "source": [
    "# clustering the institutions\n",
    "# parameters: family income, deviation in SAT scores, proportion of white students, cost of attendance\n",
    "# converting all variables to float\n",
    "df['FAMINC'] = df['FAMINC'].astype(float)\n",
    "df['SAT_DEV'] = df['SAT_DEV'].astype(float)\n",
    "df['UGDS_WHITE'] = df['UGDS_WHITE'].astype(float)\n",
    "df['COSTT4_A'] = df['COSTT4_A'].astype(float)\n",
    "\n",
    "# normalizing all the variables\n",
    "df['FAMINC_N'] = (df['FAMINC'] - df['FAMINC'].mean())/(df['FAMINC'].max() - df['FAMINC'].min())\n",
    "df['SAT_DEV_N'] = (df['SAT_DEV'] - df['SAT_DEV'].mean())/(df['SAT_DEV'].max() - df['SAT_DEV'].min())\n",
    "df['UGDS_WHITE_N'] = (df['UGDS_WHITE'] - df['UGDS_WHITE'].mean())/(df['UGDS_WHITE'].max() - df['UGDS_WHITE'].min())\n",
    "df['COSTT4_A_N'] = (df['COSTT4_A'] - df['COSTT4_A'].mean())/(df['COSTT4_A'].max() - df['COSTT4_A'].min())"
   ]
  },
  {
   "cell_type": "markdown",
   "metadata": {},
   "source": [
    "We run the clustering algorithm, and print the cost for cluster values [1,10].  \n",
    "k determines the resulting number of clusters, and we can see that the cost varies a lot till the value of 4, but does not change much after that. Hence, 4 clusters seem to be the right decision for this use-case."
   ]
  },
  {
   "cell_type": "code",
   "execution_count": 11,
   "metadata": {
    "collapsed": false
   },
   "outputs": [
    {
     "name": "stdout",
     "output_type": "stream",
     "text": [
      "k: 1  cost: 103.785853782\n",
      "k: 2  cost: 65.8452965994\n",
      "k: 3  cost: 45.4256028614\n",
      "k: 4  cost: 36.9405935523\n",
      "k: 5  cost: 33.1476153581\n",
      "k: 6  cost: 29.4203855877\n",
      "k: 7  cost: 26.1945049746\n",
      "k: 8  cost: 23.7253874191\n",
      "k: 9  cost: 21.6083137192\n"
     ]
    }
   ],
   "source": [
    "# reference:\n",
    "#https://learn.scientificprogramming.io/python-k-means-data-clustering-and-finding-of-the-best-k-485f66297c06\n",
    "\n",
    "# clustering exercise\n",
    "cluster_par = ['FAMINC_N','SAT_DEV_N','UGDS_WHITE_N','COSTT4_A_N']\n",
    "cluster_df = df[cluster_par]\n",
    "\n",
    "# trying different values for k\n",
    "for k in range (1, 10):\n",
    "    # create a kmeans model on our data, using k clusters\n",
    "    kmeans_model = KMeans(n_clusters = k, random_state = 1).fit(cluster_df.iloc[:, :])\n",
    "\n",
    "    # fitted labels for clusters -- the first cluster has label 0, and the second has label 1\n",
    "    labels = kmeans_model.labels_\n",
    " \n",
    "    # sum of distances of samples to their closest cluster center\n",
    "    inertia = kmeans_model.inertia_\n",
    "    print (\"k:\",k, \" cost:\", inertia)"
   ]
  },
  {
   "cell_type": "markdown",
   "metadata": {},
   "source": [
    "We choose the value of 4 and assign the labels to the dataset. Essentially, all the colleges are divided into 4 distinct clusters now, and they would be \"clustered\" around each other based on the values of family income, racial diversity, deviation in SAT scores, and cost of attendance. "
   ]
  },
  {
   "cell_type": "code",
   "execution_count": 12,
   "metadata": {
    "collapsed": true
   },
   "outputs": [],
   "source": [
    "# value of k = 4 seems to be optimal for the clustering\n",
    "kmeans_model = KMeans(n_clusters = 4, random_state = 1).fit(cluster_df.iloc[:, :])\n",
    "\n",
    "# fitted labels for clusters -- the first cluster has label 0, and the second has label 1\n",
    "labels = kmeans_model.labels_\n",
    "\n",
    "# attaching cluster labels to the dataframe\n",
    "df['CLUSTER'] = labels"
   ]
  },
  {
   "cell_type": "markdown",
   "metadata": {},
   "source": [
    "We create a separate dataframe with only the variables relevant for observing the clustering exercise.  \n",
    "Checking the summary statistics for the resulting clusters, we can make a couple of pertinent observations. Firstly, the deviation in test scores is not an important variable in any of the resulting clusters (as can be seen from the minuscule average observed values). Secondly, the last cluster (cluster 3) has the lowest combined values for the rest of the 3 variables. Lower values for these variables point to higher diversity efforts (lower family income, a lower proportion of white incoming students, and a lower proportion of the cost of attendance). "
   ]
  },
  {
   "cell_type": "code",
   "execution_count": 13,
   "metadata": {
    "collapsed": false
   },
   "outputs": [
    {
     "data": {
      "text/html": [
       "<div>\n",
       "<table border=\"1\" class=\"dataframe\">\n",
       "  <thead>\n",
       "    <tr style=\"text-align: right;\">\n",
       "      <th></th>\n",
       "      <th>CLUSTER</th>\n",
       "      <th>FAMINC_N</th>\n",
       "      <th>SAT_DEV_N</th>\n",
       "      <th>UGDS_WHITE_N</th>\n",
       "      <th>COSTT4_A_N</th>\n",
       "    </tr>\n",
       "  </thead>\n",
       "  <tbody>\n",
       "    <tr>\n",
       "      <th>0</th>\n",
       "      <td>0</td>\n",
       "      <td>-0.017555</td>\n",
       "      <td>0.003436</td>\n",
       "      <td>0.127312</td>\n",
       "      <td>-0.235657</td>\n",
       "    </tr>\n",
       "    <tr>\n",
       "      <th>1</th>\n",
       "      <td>1</td>\n",
       "      <td>0.254935</td>\n",
       "      <td>-0.026208</td>\n",
       "      <td>-0.016203</td>\n",
       "      <td>0.404949</td>\n",
       "    </tr>\n",
       "    <tr>\n",
       "      <th>2</th>\n",
       "      <td>2</td>\n",
       "      <td>-0.018563</td>\n",
       "      <td>0.018841</td>\n",
       "      <td>0.059466</td>\n",
       "      <td>0.106253</td>\n",
       "    </tr>\n",
       "    <tr>\n",
       "      <th>3</th>\n",
       "      <td>3</td>\n",
       "      <td>-0.209011</td>\n",
       "      <td>-0.014085</td>\n",
       "      <td>-0.366399</td>\n",
       "      <td>-0.146012</td>\n",
       "    </tr>\n",
       "  </tbody>\n",
       "</table>\n",
       "</div>"
      ],
      "text/plain": [
       "   CLUSTER  FAMINC_N  SAT_DEV_N  UGDS_WHITE_N  COSTT4_A_N\n",
       "0        0 -0.017555   0.003436      0.127312   -0.235657\n",
       "1        1  0.254935  -0.026208     -0.016203    0.404949\n",
       "2        2 -0.018563   0.018841      0.059466    0.106253\n",
       "3        3 -0.209011  -0.014085     -0.366399   -0.146012"
      ]
     },
     "execution_count": 13,
     "metadata": {},
     "output_type": "execute_result"
    }
   ],
   "source": [
    "# checking the summary statistics of the resulting clusters\n",
    "summ_df = df[['FAMINC_N','SAT_DEV_N','UGDS_WHITE_N','COSTT4_A_N', 'CLUSTER']]\n",
    "summ_df.groupby(['CLUSTER'],as_index=False).mean()"
   ]
  },
  {
   "cell_type": "markdown",
   "metadata": {},
   "source": [
    "We tag the cluster number 3 as the diversity cluster, and all the rest as non-diversity (1 and 0 flag values respectively)."
   ]
  },
  {
   "cell_type": "code",
   "execution_count": 14,
   "metadata": {
    "collapsed": true
   },
   "outputs": [],
   "source": [
    "# institutions in cluster 3 seems to be focusing on diversity efforts\n",
    "df['DIVERSITY_FLAG'] = np.where(df['CLUSTER'] == 3, 1, 0)"
   ]
  },
  {
   "cell_type": "markdown",
   "metadata": {},
   "source": [
    "We create a dataframe that counts the total number of colleges in every state, and how many of those are focused on diversity efforts. We then proceed to list the top 10 states with the most number of colleges, and their corresponding percentages for diversity-focused colleges. "
   ]
  },
  {
   "cell_type": "code",
   "execution_count": 15,
   "metadata": {
    "collapsed": false
   },
   "outputs": [
    {
     "data": {
      "text/html": [
       "<div>\n",
       "<table border=\"1\" class=\"dataframe\">\n",
       "  <thead>\n",
       "    <tr style=\"text-align: right;\">\n",
       "      <th></th>\n",
       "      <th>STABBR</th>\n",
       "      <th>DIVERSITY_FLAG</th>\n",
       "      <th>TOTAL</th>\n",
       "      <th>PERCENT</th>\n",
       "    </tr>\n",
       "  </thead>\n",
       "  <tbody>\n",
       "    <tr>\n",
       "      <th>42</th>\n",
       "      <td>TX</td>\n",
       "      <td>16</td>\n",
       "      <td>41</td>\n",
       "      <td>0.390244</td>\n",
       "    </tr>\n",
       "    <tr>\n",
       "      <th>4</th>\n",
       "      <td>CA</td>\n",
       "      <td>15</td>\n",
       "      <td>40</td>\n",
       "      <td>0.375000</td>\n",
       "    </tr>\n",
       "    <tr>\n",
       "      <th>33</th>\n",
       "      <td>NY</td>\n",
       "      <td>6</td>\n",
       "      <td>37</td>\n",
       "      <td>0.162162</td>\n",
       "    </tr>\n",
       "    <tr>\n",
       "      <th>26</th>\n",
       "      <td>NC</td>\n",
       "      <td>9</td>\n",
       "      <td>31</td>\n",
       "      <td>0.290323</td>\n",
       "    </tr>\n",
       "    <tr>\n",
       "      <th>15</th>\n",
       "      <td>IN</td>\n",
       "      <td>1</td>\n",
       "      <td>30</td>\n",
       "      <td>0.033333</td>\n",
       "    </tr>\n",
       "    <tr>\n",
       "      <th>34</th>\n",
       "      <td>OH</td>\n",
       "      <td>1</td>\n",
       "      <td>29</td>\n",
       "      <td>0.034483</td>\n",
       "    </tr>\n",
       "    <tr>\n",
       "      <th>19</th>\n",
       "      <td>MA</td>\n",
       "      <td>0</td>\n",
       "      <td>29</td>\n",
       "      <td>0.000000</td>\n",
       "    </tr>\n",
       "    <tr>\n",
       "      <th>44</th>\n",
       "      <td>VA</td>\n",
       "      <td>3</td>\n",
       "      <td>25</td>\n",
       "      <td>0.120000</td>\n",
       "    </tr>\n",
       "    <tr>\n",
       "      <th>14</th>\n",
       "      <td>IL</td>\n",
       "      <td>4</td>\n",
       "      <td>25</td>\n",
       "      <td>0.160000</td>\n",
       "    </tr>\n",
       "    <tr>\n",
       "      <th>9</th>\n",
       "      <td>FL</td>\n",
       "      <td>6</td>\n",
       "      <td>23</td>\n",
       "      <td>0.260870</td>\n",
       "    </tr>\n",
       "  </tbody>\n",
       "</table>\n",
       "</div>"
      ],
      "text/plain": [
       "   STABBR  DIVERSITY_FLAG  TOTAL   PERCENT\n",
       "42     TX              16     41  0.390244\n",
       "4      CA              15     40  0.375000\n",
       "33     NY               6     37  0.162162\n",
       "26     NC               9     31  0.290323\n",
       "15     IN               1     30  0.033333\n",
       "34     OH               1     29  0.034483\n",
       "19     MA               0     29  0.000000\n",
       "44     VA               3     25  0.120000\n",
       "14     IL               4     25  0.160000\n",
       "9      FL               6     23  0.260870"
      ]
     },
     "execution_count": 15,
     "metadata": {},
     "output_type": "execute_result"
    }
   ],
   "source": [
    "# which states with the extremes of diversity/non-diversity institutions\n",
    "g1 = df.groupby(by = ['STABBR'])['DIVERSITY_FLAG'].count()\n",
    "df1 = pd.DataFrame(g1.reset_index())\n",
    "g2 = df.groupby(by = ['STABBR'])['DIVERSITY_FLAG'].sum()\n",
    "state_df = pd.DataFrame(g2.reset_index())\n",
    "state_df['TOTAL'] = df1['DIVERSITY_FLAG']\n",
    "state_df['PERCENT'] = state_df['DIVERSITY_FLAG']/state_df['TOTAL']\n",
    "\n",
    "# displaying top 10 states by the total number of colleges\n",
    "state_df.sort_values('TOTAL', ascending = False)[1:11]"
   ]
  },
  {
   "cell_type": "markdown",
   "metadata": {},
   "source": [
    "As we can see, Texas and California are major states with a lot of institutions focused on diversity efforts too. [The University of Texas System](https://en.wikipedia.org/wiki/University_of_Texas_System) in Texas, and [The University of Calfornia System](https://en.wikipedia.org/wiki/University_of_California) in California seem to have policies that contribute to good outcomes in terms of the diversity on the constituent campuses.  \n",
    "States like Indiana, Ohio, and Massachusetts are major states that do not seem to have a lot going in terms of the diversity efforts at colleges."
   ]
  },
  {
   "cell_type": "markdown",
   "metadata": {},
   "source": [
    "We now proceed to display the same data on the US Map to quickly glance at how all the states fare in terms of the percentage of diversity-focused colleges.  \n",
    "We firstly map the state abbreviations to their full names via a Python dictionary. \n",
    "Then, we create a dictionary (from the dataframe) that contains the names of all the states and their corresponding percentages of diversity-focused colleges. We also add Wyoming and Mississippi in the dictionary to make it ready for the map module.  "
   ]
  },
  {
   "cell_type": "code",
   "execution_count": 16,
   "metadata": {
    "collapsed": true
   },
   "outputs": [],
   "source": [
    "# mapping the state codes with their full names\n",
    "state_names = {\n",
    "        'AK': 'Alaska',\n",
    "        'AL': 'Alabama',\n",
    "        'AR': 'Arkansas',\n",
    "        'AS': 'American Samoa',\n",
    "        'AZ': 'Arizona',\n",
    "        'CA': 'California',\n",
    "        'CO': 'Colorado',\n",
    "        'CT': 'Connecticut',\n",
    "        'DC': 'District of Columbia',\n",
    "        'DE': 'Delaware',\n",
    "        'FL': 'Florida',\n",
    "        'GA': 'Georgia',\n",
    "        'GU': 'Guam',\n",
    "        'HI': 'Hawaii',\n",
    "        'IA': 'Iowa',\n",
    "        'ID': 'Idaho',\n",
    "        'IL': 'Illinois',\n",
    "        'IN': 'Indiana',\n",
    "        'KS': 'Kansas',\n",
    "        'KY': 'Kentucky',\n",
    "        'LA': 'Louisiana',\n",
    "        'MA': 'Massachusetts',\n",
    "        'MD': 'Maryland',\n",
    "        'ME': 'Maine',\n",
    "        'MI': 'Michigan',\n",
    "        'MN': 'Minnesota',\n",
    "        'MO': 'Missouri',\n",
    "        'MP': 'Northern Mariana Islands',\n",
    "        'MS': 'Mississippi',\n",
    "        'MT': 'Montana',\n",
    "        'NA': 'National',\n",
    "        'NC': 'North Carolina',\n",
    "        'ND': 'North Dakota',\n",
    "        'NE': 'Nebraska',\n",
    "        'NH': 'New Hampshire',\n",
    "        'NJ': 'New Jersey',\n",
    "        'NM': 'New Mexico',\n",
    "        'NV': 'Nevada',\n",
    "        'NY': 'New York',\n",
    "        'OH': 'Ohio',\n",
    "        'OK': 'Oklahoma',\n",
    "        'OR': 'Oregon',\n",
    "        'PA': 'Pennsylvania',\n",
    "        'PR': 'Puerto Rico',\n",
    "        'RI': 'Rhode Island',\n",
    "        'SC': 'South Carolina',\n",
    "        'SD': 'South Dakota',\n",
    "        'TN': 'Tennessee',\n",
    "        'TX': 'Texas',\n",
    "        'UT': 'Utah',\n",
    "        'VA': 'Virginia',\n",
    "        'VI': 'Virgin Islands',\n",
    "        'VT': 'Vermont',\n",
    "        'WA': 'Washington',\n",
    "        'WI': 'Wisconsin',\n",
    "        'WV': 'West Virginia',\n",
    "        'WY': 'Wyoming'\n",
    "}\n",
    "\n",
    "# attaching it to the dataframe\n",
    "state_df['FULL_ST_NAME'] = state_df['STABBR'].map(state_names)"
   ]
  },
  {
   "cell_type": "code",
   "execution_count": 17,
   "metadata": {
    "collapsed": false
   },
   "outputs": [],
   "source": [
    "# creating a dictionary for state name and diversity percentage\n",
    "div_dict = dict(zip(state_df.FULL_ST_NAME, state_df.PERCENT))\n",
    "\n",
    "# adding missing states with a 0 value to plot a US map\n",
    "div_dict['Wyoming'] = 0.0\n",
    "div_dict['Mississippi'] = 0.0"
   ]
  },
  {
   "cell_type": "markdown",
   "metadata": {},
   "source": [
    "We now map the values on the US Map. \n",
    "The code is taken from the examples provided at the [Github repository for Basemap](https://github.com/matplotlib/basemap/blob/master/examples/fillstates.py)."
   ]
  },
  {
   "cell_type": "code",
   "execution_count": 18,
   "metadata": {
    "collapsed": false
   },
   "outputs": [
    {
     "data": {
      "image/png": "[encoded data removed]",
      "text/plain": [
       "<matplotlib.figure.Figure at 0x7f2fc1b2a438>"
      ]
     },
     "metadata": {},
     "output_type": "display_data"
    }
   ],
   "source": [
    "# reference: https://github.com/matplotlib/basemap/blob/master/examples/fillstates.py\n",
    "\n",
    "# creating a map of US states with diversity percentages\n",
    "\n",
    "# lambert Conformal map of lower 48 states.\n",
    "m = Basemap(llcrnrlon=-119,llcrnrlat=22,urcrnrlon=-64,urcrnrlat=49,\n",
    "        projection='lcc',lat_1=33,lat_2=45,lon_0=-95)\n",
    "\n",
    "# draw state boundaries\n",
    "shp_info = m.readshapefile('./map_files/st99_d00','states',drawbounds=True)\n",
    "\n",
    "# choose a color for each state based on population density\n",
    "colors={}\n",
    "statenames=[]\n",
    "cmap = plt.cm.bone # use 'bone' colormap\n",
    "vmin = 0; vmax = 5 # set range.\n",
    "for shapedict in m.states_info:\n",
    "    statename = shapedict['NAME']\n",
    "    # skip DC and Puerto Rico\n",
    "    if statename not in ['District of Columbia','Puerto Rico']:\n",
    "        pop = div_dict[statename]\n",
    "        # calling colormap with value between 0 and 1 returns\n",
    "        # rgba value.  Invert color range (hot colors are high\n",
    "        # population), take sqrt root to spread out colors more\n",
    "        colors[statename] = cmap(1.-np.sqrt((pop-vmin)/(vmax-vmin)))[:3]\n",
    "    statenames.append(statename)\n",
    "# cycle through state names, color each one\n",
    "ax = plt.gca() # get current axes instance\n",
    "\n",
    "# setting the image size\n",
    "plt.rcParams[\"figure.figsize\"] = [35,10]\n",
    "\n",
    "for nshape,seg in enumerate(m.states):\n",
    "    # skip DC and Puerto Rico.\n",
    "    if statenames[nshape] not in ['District of Columbia','Puerto Rico']:\n",
    "        color = rgb2hex(colors[statenames[nshape]]) \n",
    "        poly = Polygon(seg,facecolor=color,edgecolor=color)\n",
    "        ax.add_patch(poly)\n",
    "plt.title('Diversity among Colleges across US States', fontsize = 20)\n",
    "plt.show()"
   ]
  },
  {
   "cell_type": "markdown",
   "metadata": {},
   "source": [
    "We start to see the differences in the two groups of colleges (diverse v/s non-diverse) in various dimensions.  \n",
    "The 1st dimension we examine is the average faculty salary."
   ]
  },
  {
   "cell_type": "code",
   "execution_count": 19,
   "metadata": {
    "collapsed": false
   },
   "outputs": [
    {
     "data": {
      "text/html": [
       "<div>\n",
       "<table border=\"1\" class=\"dataframe\">\n",
       "  <thead>\n",
       "    <tr style=\"text-align: right;\">\n",
       "      <th></th>\n",
       "      <th>DIVERSITY_FLAG</th>\n",
       "      <th>AVGFACSAL</th>\n",
       "    </tr>\n",
       "  </thead>\n",
       "  <tbody>\n",
       "    <tr>\n",
       "      <th>0</th>\n",
       "      <td>0</td>\n",
       "      <td>8413.081633</td>\n",
       "    </tr>\n",
       "    <tr>\n",
       "      <th>1</th>\n",
       "      <td>1</td>\n",
       "      <td>8205.609524</td>\n",
       "    </tr>\n",
       "  </tbody>\n",
       "</table>\n",
       "</div>"
      ],
      "text/plain": [
       "   DIVERSITY_FLAG    AVGFACSAL\n",
       "0               0  8413.081633\n",
       "1               1  8205.609524"
      ]
     },
     "execution_count": 19,
     "metadata": {},
     "output_type": "execute_result"
    }
   ],
   "source": [
    "# average faculty salary \n",
    "fac_sal = df.groupby(by=['DIVERSITY_FLAG'])['AVGFACSAL'].mean().reset_index()\n",
    "fac_sal"
   ]
  },
  {
   "cell_type": "code",
   "execution_count": 20,
   "metadata": {
    "collapsed": false
   },
   "outputs": [
    {
     "name": "stdout",
     "output_type": "stream",
     "text": [
      "t = 0.767617269218\n",
      "p value = 0.885993641405\n"
     ]
    }
   ],
   "source": [
    "# performing 2 tailed independent sample t-test to check if the difference is significant\n",
    "sal_non_div = df.loc[df['DIVERSITY_FLAG'] == 0]['AVGFACSAL']\n",
    "sal_div = df.loc[df['DIVERSITY_FLAG'] == 1]['AVGFACSAL']\n",
    "\n",
    "# t-test\n",
    "t2, p2 = stats.ttest_ind(sal_non_div,sal_div)\n",
    "print(\"t = \" + str(t2))\n",
    "print(\"p value = \" + str(2*p2))"
   ]
  },
  {
   "cell_type": "markdown",
   "metadata": {},
   "source": [
    "Lower mean faculty salary in diversity-focused can allude to the fact that the cost of living can be a confounding variable that explains a lower cost of attendance, as well as lower family income!\n",
    "However, we can see that the average faculty salary is not statistically different among the 2 groups.\n",
    "\n",
    "Note: For an intuitive explanation of p-values, watch this video: https://www.youtube.com/watch?v=-FtlH4svqx4"
   ]
  },
  {
   "cell_type": "markdown",
   "metadata": {},
   "source": [
    "The next dimension we look at is the admission rate."
   ]
  },
  {
   "cell_type": "code",
   "execution_count": 21,
   "metadata": {
    "collapsed": false
   },
   "outputs": [
    {
     "data": {
      "image/png": "[encoded data removed]",
      "text/plain": [
       "<matplotlib.figure.Figure at 0x7f2fc8c44860>"
      ]
     },
     "metadata": {},
     "output_type": "display_data"
    }
   ],
   "source": [
    "# admission rate \n",
    "adm_rate = df.groupby(by=['DIVERSITY_FLAG'])['ADM_RATE'].mean().reset_index()\n",
    "# plotting admission rate\n",
    "ax = adm_rate[['ADM_RATE']].plot(kind='bar', title =\"Admission Rate\", figsize=(8, 5), legend=False, fontsize=12)\n",
    "ax.set_xlabel(\"Diversity Flag\", fontsize=12)\n",
    "ax.set_ylim(ymin=0.33)\n",
    "plt.show()"
   ]
  },
  {
   "cell_type": "code",
   "execution_count": 22,
   "metadata": {
    "collapsed": false
   },
   "outputs": [
    {
     "name": "stdout",
     "output_type": "stream",
     "text": [
      "t = 2.37300869024\n",
      "p value = 0.0358747357962\n"
     ]
    }
   ],
   "source": [
    "# performing 2 tailed independent sample t-test to check if the difference is significant\n",
    "adm_non_div = df.loc[df['DIVERSITY_FLAG'] == 0]['ADM_RATE']\n",
    "adm_div = df.loc[df['DIVERSITY_FLAG'] == 1]['ADM_RATE']\n",
    "\n",
    "# t-test\n",
    "t2, p2 = stats.ttest_ind(adm_non_div,adm_div)\n",
    "print(\"t = \" + str(t2))\n",
    "print(\"p value = \" + str(2*p2))"
   ]
  },
  {
   "cell_type": "markdown",
   "metadata": {
    "collapsed": false
   },
   "source": [
    "As we can see, the difference is statistically significant. Hence, we can safely assume that it is harder to get into the schools that focus on diversity."
   ]
  },
  {
   "cell_type": "markdown",
   "metadata": {},
   "source": [
    "The next dimension we look at is the completion rate.  \n",
    "C150_4 (Completion rate for first-time, full-time students at four-year institutions (150% of expected time to completion))"
   ]
  },
  {
   "cell_type": "code",
   "execution_count": 23,
   "metadata": {
    "collapsed": false
   },
   "outputs": [
    {
     "data": {
      "image/png": "[encoded data removed]",
      "text/plain": [
       "<matplotlib.figure.Figure at 0x7f2fc28d9b00>"
      ]
     },
     "metadata": {},
     "output_type": "display_data"
    }
   ],
   "source": [
    "# completion rate\n",
    "cmpl_rate = df.groupby(by=['DIVERSITY_FLAG'])['C150_4'].mean().reset_index()\n",
    "# plotting completion rate\n",
    "ax = cmpl_rate[['C150_4']].plot(kind='bar', title =\"Completion Rate\", figsize=(8, 5), legend=False, fontsize=12)\n",
    "ax.set_xlabel(\"Diversity Flag\", fontsize=12)\n",
    "ax.set_ylim(ymin=0.33)\n",
    "plt.show()"
   ]
  },
  {
   "cell_type": "code",
   "execution_count": 24,
   "metadata": {
    "collapsed": false
   },
   "outputs": [
    {
     "name": "stdout",
     "output_type": "stream",
     "text": [
      "t = 7.89642336603\n",
      "p value = 2.49314890946e-14\n"
     ]
    }
   ],
   "source": [
    "# performing 2 tailed independent sample t-test to check if the difference is significant\n",
    "cmpl_non_div = df.loc[df['DIVERSITY_FLAG'] == 0]['C150_4']\n",
    "cmpl_div = df.loc[df['DIVERSITY_FLAG'] == 1]['C150_4']\n",
    "\n",
    "# t-test\n",
    "t2, p2 = stats.ttest_ind(cmpl_non_div,cmpl_div)\n",
    "print(\"t = \" + str(t2))\n",
    "print(\"p value = \" + str(2*p2))"
   ]
  },
  {
   "cell_type": "markdown",
   "metadata": {},
   "source": [
    "The difference is extremely significant, and we can conclude that the completion rates for colleges focused on diversity are much higher than their regular counterparts.\n",
    "One of the possible explanations is that the overall harder life situations might prevent students from disadvantaged backgrounds to successfully complete their degrees in a timely manner. "
   ]
  },
  {
   "cell_type": "markdown",
   "metadata": {},
   "source": [
    "The next dimension we look at is the 5-year Repayment Rate: both for students who completed their graduation, and for students who didn't complete their graduation."
   ]
  },
  {
   "cell_type": "code",
   "execution_count": 25,
   "metadata": {
    "collapsed": false
   },
   "outputs": [
    {
     "data": {
      "image/png": "[encoded data removed]",
      "text/plain": [
       "<matplotlib.figure.Figure at 0x7f2fc5d61ba8>"
      ]
     },
     "metadata": {},
     "output_type": "display_data"
    }
   ],
   "source": [
    "# 5 year repayment rates for completers and non-completers\n",
    "df['COMPL_RPY_5YR_RT'] = df['COMPL_RPY_5YR_RT'].astype(float)\n",
    "df['NONCOM_RPY_5YR_RT'] = df['NONCOM_RPY_5YR_RT'].astype(float)\n",
    "rpymnt_cmplt = df.groupby(by=['DIVERSITY_FLAG'])['COMPL_RPY_5YR_RT'].mean().reset_index()\n",
    "rpymnt_not_cmplt = df.groupby(by=['DIVERSITY_FLAG'])['NONCOM_RPY_5YR_RT'].mean().reset_index()\n",
    "\n",
    "# defining figure\n",
    "fig, axes = plt.subplots(nrows=1, ncols=2)\n",
    "\n",
    "# plotting repayment rates (completed graduation)\n",
    "rpymnt_cmplt[['COMPL_RPY_5YR_RT']].plot(kind='bar', title =\"Repayment Rate (Completed Graduation)\", \n",
    "                                        figsize=(14, 7), legend=False, fontsize=12, ax = axes[0])\n",
    "axes[0].set_xlabel(\"Diversity Flag\", fontsize=12)\n",
    "axes[0].set_ylim(ymin=0.33)\n",
    "\n",
    "# plotting repayment rates (not completed graduation)\n",
    "rpymnt_not_cmplt[['NONCOM_RPY_5YR_RT']].plot(kind='bar', title =\"Repayment Rate (Not Completed Graduation)\", \n",
    "                                             figsize=(14, 7), legend=False, fontsize=12, ax = axes[1])\n",
    "axes[1].set_xlabel(\"Diversity Flag\", fontsize=12)\n",
    "axes[1].set_ylim(ymin=0.33)\n",
    "\n",
    "# displaying the plots\n",
    "plt.show()"
   ]
  },
  {
   "cell_type": "markdown",
   "metadata": {
    "collapsed": false
   },
   "source": [
    "Plotting the repayment rates for both, we can clearly observe that the repayment rates are significantly lower for diversity-focused colleges. While repayment rates for students who could not complete graduation can be expected to be lower for diversity-focused colleges, that it is lower for students who successfully completed is less intuitive. Further research needs to be taken up on this phenomenon to ascertain the reasons for this huge gap. "
   ]
  },
  {
   "cell_type": "markdown",
   "metadata": {},
   "source": [
    "The next dimension we look at it the Return on Investment.  \n",
    "Return on Investment is highly dependent on the kind of courses pursued and to account for this we also plot the percent of degrees related to Science, Technology, Engineering, and Mathematics (STEM).  "
   ]
  },
  {
   "cell_type": "code",
   "execution_count": 26,
   "metadata": {
    "collapsed": false
   },
   "outputs": [
    {
     "data": {
      "image/png": "[encoded data removed]",
      "text/plain": [
       "<matplotlib.figure.Figure at 0x7f2fc6623f28>"
      ]
     },
     "metadata": {},
     "output_type": "display_data"
    }
   ],
   "source": [
    "# return on investment\n",
    "roi = df.groupby(by=['DIVERSITY_FLAG'])['ROI'].mean().reset_index()\n",
    "# percent of STEM degrees offered\n",
    "stem = df.groupby(by=['DIVERSITY_FLAG'])['PERC_STEM'].mean().reset_index()\n",
    "\n",
    "# merging the above two dataframes\n",
    "roi = pd.merge(stem, roi, on = 'DIVERSITY_FLAG')\n",
    "\n",
    "# plotting Return on Investment (including STEM %s)\n",
    "ax = roi[['ROI', 'PERC_STEM']].plot(kind='bar', title =\"Return on Investment (and % of STEM degrees)\", figsize=(8, 5), legend=True, fontsize=12)\n",
    "ax.set_xlabel(\"Diversity Flag\", fontsize=12)\n",
    "ax.set_ylim(ymin=0.0)\n",
    "plt.show()"
   ]
  },
  {
   "cell_type": "markdown",
   "metadata": {
    "collapsed": false
   },
   "source": [
    "As can be seen from the above graph, there is no discernible difference between the percentage of STEM degrees awarded in the two types of colleges. However, the Return of Investment is significantly higher for the colleges focused on diversity efforts. It seems to be a smarter financial decision to attend the colleges focused on diversity efforts (which might partly explain lower admission rates too).  "
   ]
  },
  {
   "cell_type": "markdown",
   "metadata": {},
   "source": [
    "## Summary of Findings\n",
    "* Public universities such as the University of California and the University of Texas systems seem to be driving diversity efforts in a good direction, and further research in their efforts can inform public policy initiatives. \n",
    "* It is more difficult than average to get an admission into diversity-focused colleges.\n",
    "* The completion rate is lower in diversity-focused colleges, and special programs can be formulated to avoid student drop-outs due to financial (and other) constraints. \n",
    "* The repayment rate is significantly lower in diversity-focused colleges. Further research is required to understand the reasons for the same and frame effective solutions. \n",
    "* It might also make more sense financially to attend a diversity-focused college, all else being equal. "
   ]
  },
  {
   "cell_type": "markdown",
   "metadata": {},
   "source": [
    "## Limitations of the Study\n",
    "* The College scorecard dataset is only limited to the students who have received a federal financial aid, which potentially biases the results.\n",
    "* Analysis performed only on colleges which had complete data for the variables under consideration (644/7175 colleges considered for the analysis).\n",
    "* The earnings data is recorded for 10 years after entry into the program, which can skew figures for programs which have longer time periods of study (such as medicine).  \n",
    "* The cost of living and tuition will not be the \"same\" across all colleges due to differences in the cost of living across states. "
   ]
  },
  {
   "cell_type": "markdown",
   "metadata": {},
   "source": [
    "## Conclusion\n",
    "The study was a small exercise in demonstrating the power of open data in framing questions that are personally relevant. The notebook is constructed keeping in mind the reproducibility aspect, and the reader is encouraged to frame their own research questions.  \n",
    "College is an essential part of achieving the American Dream, and institutions that are trying to equalize opportunities by focusing on diversity deserve appreciation and support. We can see that the colleges focused on diversity are different from the regular colleges on a number of different parameters. The findings can also hopefully inspire further research to dive deeper into some of the reasons for the variances. "
   ]
  },
  {
   "cell_type": "markdown",
   "metadata": {},
   "source": [
    "## References:\n",
    "[1] https://www.brookings.edu/opinions/understanding-the-college-scorecard/#cancel   \n",
    "[2] https://www.treasury.gov/connect/blog/Pages/A-Comparison-between-the-College-Scorecard-and-Mobility-Report-Cards.aspx   \n",
    "[3] https://www.economist.com/graphic-detail/2015/10/29/our-first-ever-college-rankings   \n",
    "[4] https://www.brookings.edu/research/using-earnings-data-to-rank-colleges-a-value-added-approach-updated-with-college-scorecard-data/   \n",
    "\n",
    "Other resources:  \n",
    "https://learn.scientificprogramming.io/python-k-means-data-clustering-and-finding-of-the-best-k-485f66297c06  \n",
    "https://github.com/matplotlib/basemap/blob/master/examples/fillstates.py    "
   ]
  }
 ],
 "metadata": {
  "kernelspec": {
   "display_name": "Python [conda env:ethics_class]",
   "language": "python",
   "name": "conda-env-ethics_class-py"
  },
  "language_info": {
   "codemirror_mode": {
    "name": "ipython",
    "version": 3
   },
   "file_extension": ".py",
   "mimetype": "text/x-python",
   "name": "python",
   "nbconvert_exporter": "python",
   "pygments_lexer": "ipython3",
   "version": "3.4.5"
  }
 },
 "nbformat": 4,
 "nbformat_minor": 2
}
